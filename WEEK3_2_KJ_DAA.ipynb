{
  "cells": [
    {
      "cell_type": "markdown",
      "metadata": {
        "id": "view-in-github",
        "colab_type": "text"
      },
      "source": [
        "<a href=\"https://colab.research.google.com/github/Kamani-Shivani/DAA/blob/main/WEEK3_2_KJ_DAA.ipynb\" target=\"_parent\"><img src=\"https://colab.research.google.com/assets/colab-badge.svg\" alt=\"Open In Colab\"/></a>"
      ]
    },
    {
      "cell_type": "markdown",
      "metadata": {
        "id": "EszUCc1hzHCU"
      },
      "source": [
        "\n",
        "Given a sorted array of TCS company employees' salaries in ascending order, implement a<br>\n",
        "function called binarySearchSalary in C that searches for a specific salary in the sorted salary<br>\n",
        "ray and returns its index. If the salary is not found, the function should return -1.\n"
      ]
    },
    {
      "cell_type": "markdown",
      "metadata": {
        "id": "EVslQ6fczHCX"
      },
      "source": [
        "\n",
        "<br>\n",
        "TEST CASE 1:<br>\n",
        "INPUT:<br>\n",
        "TCS Company Employees' Salaries in USD: $3000, $4500, $5500, $6500, $7500, $8500,<br>\n",
        "$9500, $11000<br>\n",
        "OUTPUT:<br>\n",
        "Find the salary of the TCS employee with a salary of: $6500<br>\n"
      ]
    },
    {
      "cell_type": "code",
      "execution_count": 1,
      "metadata": {
        "colab": {
          "base_uri": "https://localhost:8080/"
        },
        "id": "tb7h3yaWzHCY",
        "outputId": "4802f79a-7f9e-4ecf-ad3e-46da47294310"
      },
      "outputs": [
        {
          "output_type": "stream",
          "name": "stdout",
          "text": [
            "Enter TCS Company Employees' Salaries in USD: \n",
            "3000\n",
            "4500\n",
            "5500\n",
            "6500\n",
            "7500\n",
            "8500\n",
            "9500\n",
            "11000\n",
            "Enter the salary of TCS Employee to be found: 7500\n",
            "4\n"
          ]
        }
      ],
      "source": [
        "def binarySearchSalary(array):\n",
        "    l = 0\n",
        "    r = len(array)-1\n",
        "    while l<=r:\n",
        "        mid = (l+r)//2\n",
        "        if array[mid] == key:\n",
        "            return mid\n",
        "        elif array[mid] > key:\n",
        "            r = mid\n",
        "        else:\n",
        "            l = mid+1\n",
        "    return -1\n",
        "array = []\n",
        "print(\"Enter TCS Company Employees' Salaries in USD: \")\n",
        "for _ in range(8):\n",
        "    val = int(input())\n",
        "    array.append(val)\n",
        "key = int(input('Enter the salary of TCS Employee to be found: '))\n",
        "print(binarySearchSalary(array))"
      ]
    }
  ],
  "metadata": {
    "kernelspec": {
      "display_name": "Python 3",
      "language": "python",
      "name": "python3"
    },
    "language_info": {
      "codemirror_mode": {
        "name": "ipython",
        "version": 3
      },
      "file_extension": ".py",
      "mimetype": "text/x-python",
      "name": "python",
      "nbconvert_exporter": "python",
      "pygments_lexer": "ipython3",
      "version": "3.6.4"
    },
    "colab": {
      "provenance": [],
      "include_colab_link": true
    }
  },
  "nbformat": 4,
  "nbformat_minor": 0
}