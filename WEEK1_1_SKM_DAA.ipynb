{
  "cells": [
    {
      "cell_type": "markdown",
      "metadata": {
        "id": "view-in-github",
        "colab_type": "text"
      },
      "source": [
        "<a href=\"https://colab.research.google.com/github/Kamani-Shivani/DAA/blob/main/WEEK1_1_SKM_DAA.ipynb\" target=\"_parent\"><img src=\"https://colab.research.google.com/assets/colab-badge.svg\" alt=\"Open In Colab\"/></a>"
      ]
    },
    {
      "cell_type": "markdown",
      "metadata": {
        "id": "OKG9tieUtj5j"
      },
      "source": [
        "\n",
        "In an online bookstore, there are thousands of books available for purchase. The<br>\n",
        "bookstore's website allows customers to search for books based on various criteria,<br>\n",
        "such as title, author, publication date, and price. if a customer searches for books by<br>\n",
        "a specific title and price, the program can arrange the search results by price, from<br>\n",
        "w to high or vice versa, based on the customer's preference.\n"
      ]
    },
    {
      "cell_type": "markdown",
      "metadata": {
        "id": "3QHClVIwtj5n"
      },
      "source": [
        "\n",
        "<br>\n",
        "TEST CASE 1:<br>\n",
        "INPUT:<br>\n",
        " Enter Book Price:<br>\n",
        "200<br>\n",
        "150<br>\n",
        "300<br>\n",
        "420<br>\n",
        "OUT PUT:<br>\n",
        "420<br>\n",
        "300<br>\n",
        "200<br>\n",
        "150<br>\n",
        "TEST CASE 2:<br>\n",
        " Enter Book Price:<br>\n",
        "INPUT:<br>\n",
        "150<br>\n",
        "690<br>\n",
        "800<br>\n",
        "140<br>\n",
        "OUTPUT:<br>\n",
        "140<br>\n",
        "150<br>\n",
        "690<br>\n",
        "800<br>\n"
      ]
    },
    {
      "cell_type": "markdown",
      "metadata": {
        "id": "lrn2_Df6tj5o"
      },
      "source": [
        "bubble sort"
      ]
    },
    {
      "cell_type": "code",
      "execution_count": 3,
      "metadata": {
        "colab": {
          "base_uri": "https://localhost:8080/"
        },
        "id": "YuueRelCtj5p",
        "outputId": "5e1443ae-ffba-4dfa-8e13-ba7ffab5cc30"
      },
      "outputs": [
        {
          "output_type": "stream",
          "name": "stdout",
          "text": [
            "Enter Book Price: 200 150 300 420\n",
            "[420, 300, 200, 150]\n"
          ]
        }
      ],
      "source": [
        "array = list(map(int, input(\"Enter Book Price: \").split()))\n",
        "#input values = 200 150 300 420\n",
        "for i in range(0,len(array)):\n",
        "    for j in range(0,len(array)-1):\n",
        "        if array[j]<array[j+1]:\n",
        "            array[j+1],array[j]=array[j],array[j+1]\n",
        "print(array)"
      ]
    }
  ],
  "metadata": {
    "kernelspec": {
      "display_name": "Python 3",
      "language": "python",
      "name": "python3"
    },
    "language_info": {
      "codemirror_mode": {
        "name": "ipython",
        "version": 3
      },
      "file_extension": ".py",
      "mimetype": "text/x-python",
      "name": "python",
      "nbconvert_exporter": "python",
      "pygments_lexer": "ipython3",
      "version": "3.6.4"
    },
    "colab": {
      "provenance": [],
      "include_colab_link": true
    }
  },
  "nbformat": 4,
  "nbformat_minor": 0
}