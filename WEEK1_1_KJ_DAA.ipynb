{
  "cells": [
    {
      "cell_type": "markdown",
      "metadata": {
        "id": "view-in-github",
        "colab_type": "text"
      },
      "source": [
        "<a href=\"https://colab.research.google.com/github/Kamani-Shivani/DAA/blob/main/WEEK1_1_KJ_DAA.ipynb\" target=\"_parent\"><img src=\"https://colab.research.google.com/assets/colab-badge.svg\" alt=\"Open In Colab\"/></a>"
      ]
    },
    {
      "cell_type": "markdown",
      "metadata": {
        "id": "01V32V33u3ju"
      },
      "source": [
        "\n",
        "Imagine you work for a large logistics company that handles a high volume of<br>\n",
        "package deliveries on a daily basis. The company's success hinges on ensuring that<br>\n",
        "packages are delivered to their respective destinations efficiently and on time. To<br>\n",
        "solve this problem, you create a program that can quickly process and classify<br>\n",
        "ckages based on their destination.\n"
      ]
    },
    {
      "cell_type": "markdown",
      "metadata": {
        "id": "xrjDq52Hu3jy"
      },
      "source": [
        "\n",
        "<br>\n",
        "TEST CASE 1:<br>\n",
        "INPUT:<br>\n",
        " Enter time to reach destination:<br>\n",
        "20<br>\n",
        "15<br>\n",
        "30<br>\n",
        "42<br>\n",
        "OUTPUT:<br>\n",
        "15<br>\n",
        "20<br>\n",
        "30<br>\n",
        "42<br>\n",
        "TEST CASE 2:<br>\n",
        "INPUT:<br>\n",
        " Enter time to reach destination:<br>\n",
        "15<br>\n",
        "69<br>\n",
        "80<br>\n",
        "14<br>\n",
        "OUTPUT:<br>\n",
        "80<br>\n",
        "69<br>\n",
        "15<br>\n",
        "14<br>\n"
      ]
    },
    {
      "cell_type": "markdown",
      "metadata": {
        "id": "TkHYO8rmu3j0"
      },
      "source": [
        "bubble sort"
      ]
    },
    {
      "cell_type": "code",
      "execution_count": 1,
      "metadata": {
        "id": "dMra7lDZu3j0",
        "outputId": "6b28f1a6-c60f-40fb-ffeb-d3bb93b99828",
        "colab": {
          "base_uri": "https://localhost:8080/"
        }
      },
      "outputs": [
        {
          "output_type": "stream",
          "name": "stdout",
          "text": [
            "Enter time to reach destination: 20 15 30 42\n",
            "[15, 20, 30, 42]\n"
          ]
        }
      ],
      "source": [
        "array = list(map(int, input(\"Enter time to reach destination: \").split()))\n",
        "#input values = 20 15 30 42\n",
        "for i in range(0,len(array)):\n",
        "    for j in range(0,len(array)-1):\n",
        "        if array[j]>array[j+1]:\n",
        "            array[i],array[j+1]=array[j+1],array[j]\n",
        "print(array)"
      ]
    }
  ],
  "metadata": {
    "kernelspec": {
      "display_name": "Python 3",
      "language": "python",
      "name": "python3"
    },
    "language_info": {
      "codemirror_mode": {
        "name": "ipython",
        "version": 3
      },
      "file_extension": ".py",
      "mimetype": "text/x-python",
      "name": "python",
      "nbconvert_exporter": "python",
      "pygments_lexer": "ipython3",
      "version": "3.6.4"
    },
    "colab": {
      "provenance": [],
      "include_colab_link": true
    }
  },
  "nbformat": 4,
  "nbformat_minor": 0
}