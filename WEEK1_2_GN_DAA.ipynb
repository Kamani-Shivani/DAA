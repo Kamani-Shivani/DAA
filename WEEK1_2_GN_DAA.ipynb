{
  "cells": [
    {
      "cell_type": "markdown",
      "metadata": {
        "id": "view-in-github",
        "colab_type": "text"
      },
      "source": [
        "<a href=\"https://colab.research.google.com/github/Kamani-Shivani/DAA/blob/main/WEEK1_2_GN_DAA.ipynb\" target=\"_parent\"><img src=\"https://colab.research.google.com/assets/colab-badge.svg\" alt=\"Open In Colab\"/></a>"
      ]
    },
    {
      "cell_type": "markdown",
      "metadata": {
        "id": "YkNvVs7Cs7f-"
      },
      "source": [
        "\n",
        "Imagine you are working for a retail store that sells a wide variety of products. The<br>\n",
        "store has a vast inventory with thousands of items, and it's becoming challenging for<br>\n",
        "the employees to manage and locate products efficiently. Customers often ask for<br>\n",
        "specific items, and employees need to find them quickly. The sorting program's<br>\n",
        "primary goal is to organize the products in the inventory systematically, allowing for<br>\n",
        "faster and easier access to items when needed.<br>\n",
        "Implement an efficient sorting algorithm to arrange the products based on product<br>\n",
        "s.\n"
      ]
    },
    {
      "cell_type": "markdown",
      "metadata": {
        "id": "Ac9c9mCBs7gD"
      },
      "source": [
        "\n",
        "Test Case-1<br>\n",
        "Input:<br>\n",
        " Enter Products IDs:<br>\n",
        "87, 67, 21, 59, 99, 46, 84, 32, 43, 12, 90, 23<br>\n",
        "After Sorting Product IDs:<br>\n",
        "12,21,23,32,43,46,59,67,84,87,90,99<br>\n",
        "Test Case-2<br>\n",
        "Input:<br>\n",
        " Enter Products IDs:<br>\n",
        "64,56,21,90,32,87,59,60,43,10,29,74<br>\n",
        "After Sorting Product IDs:<br>\n",
        ",21,29,32,43,56,59,60,64,74,87,90\n"
      ]
    },
    {
      "cell_type": "markdown",
      "metadata": {
        "id": "LFGqZWyMs7gE"
      },
      "source": [
        "selection sort"
      ]
    },
    {
      "cell_type": "code",
      "execution_count": 1,
      "metadata": {
        "id": "AH4suINcs7gF",
        "outputId": "946b45cb-b2f1-414a-8211-f7696b386d0e",
        "colab": {
          "base_uri": "https://localhost:8080/"
        }
      },
      "outputs": [
        {
          "output_type": "stream",
          "name": "stdout",
          "text": [
            "Enter Products IDs: 87 67 21 59 99 46 84 32 43 12 90 23\n",
            "After Sorting Product IDs [12, 21, 23, 32, 43, 46, 59, 67, 84, 87, 90, 99]\n"
          ]
        }
      ],
      "source": [
        "array = list(map(int, input(\"Enter Products IDs: \").split()))\n",
        "# input values = 87 67 21 59 99 46 84 32 43 12 90 23\n",
        "for i in range(0,len(array)-1):\n",
        "    minvalue_index=i\n",
        "    for j in range(i+1,len(array)):\n",
        "        if array[minvalue_index]>array[j]:\n",
        "            minvalue_index=j\n",
        "    array[i],array[minvalue_index]=array[minvalue_index],array[i]\n",
        "print(\"After Sorting Product IDs\",array)"
      ]
    }
  ],
  "metadata": {
    "kernelspec": {
      "display_name": "Python 3",
      "language": "python",
      "name": "python3"
    },
    "language_info": {
      "codemirror_mode": {
        "name": "ipython",
        "version": 3
      },
      "file_extension": ".py",
      "mimetype": "text/x-python",
      "name": "python",
      "nbconvert_exporter": "python",
      "pygments_lexer": "ipython3",
      "version": "3.6.4"
    },
    "colab": {
      "provenance": [],
      "include_colab_link": true
    }
  },
  "nbformat": 4,
  "nbformat_minor": 0
}