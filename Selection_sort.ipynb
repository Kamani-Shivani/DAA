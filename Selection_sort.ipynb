{
  "cells": [
    {
      "cell_type": "markdown",
      "metadata": {
        "id": "view-in-github",
        "colab_type": "text"
      },
      "source": [
        "<a href=\"https://colab.research.google.com/github/Kamani-Shivani/DAA/blob/main/Selection_sort.ipynb\" target=\"_parent\"><img src=\"https://colab.research.google.com/assets/colab-badge.svg\" alt=\"Open In Colab\"/></a>"
      ]
    },
    {
      "cell_type": "markdown",
      "metadata": {
        "id": "lzwTlRS63Dmf"
      },
      "source": [
        "election sort"
      ]
    },
    {
      "cell_type": "code",
      "execution_count": 1,
      "metadata": {
        "id": "PSunPzWt3Dmi",
        "outputId": "a51032b8-a3a5-40c9-e711-ed5694b6d504",
        "colab": {
          "base_uri": "https://localhost:8080/"
        }
      },
      "outputs": [
        {
          "output_type": "stream",
          "name": "stdout",
          "text": [
            "[4200, 3000, 2000, 1500]\n"
          ]
        }
      ],
      "source": [
        "array = [2000,1500,3000,4200]\n",
        "for i in range(0,len(array)):\n",
        "    minvalue_index=i\n",
        "    for j in range(i+1,len(array)):\n",
        "        if array[minvalue_index]<array[j]:\n",
        "            minvalue_index=j\n",
        "            array[i],array[minvalue_index]=array[minvalue_index],array[i]\n",
        "print(array)"
      ]
    }
  ],
  "metadata": {
    "kernelspec": {
      "display_name": "Python 3",
      "language": "python",
      "name": "python3"
    },
    "language_info": {
      "codemirror_mode": {
        "name": "ipython",
        "version": 3
      },
      "file_extension": ".py",
      "mimetype": "text/x-python",
      "name": "python",
      "nbconvert_exporter": "python",
      "pygments_lexer": "ipython3",
      "version": "3.6.4"
    },
    "colab": {
      "provenance": [],
      "include_colab_link": true
    }
  },
  "nbformat": 4,
  "nbformat_minor": 0
}