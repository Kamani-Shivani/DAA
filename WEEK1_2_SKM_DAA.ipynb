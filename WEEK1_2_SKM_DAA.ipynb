{
  "cells": [
    {
      "cell_type": "markdown",
      "metadata": {
        "id": "view-in-github",
        "colab_type": "text"
      },
      "source": [
        "<a href=\"https://colab.research.google.com/github/Kamani-Shivani/DAA/blob/main/WEEK1_2_SKM_DAA.ipynb\" target=\"_parent\"><img src=\"https://colab.research.google.com/assets/colab-badge.svg\" alt=\"Open In Colab\"/></a>"
      ]
    },
    {
      "cell_type": "markdown",
      "metadata": {
        "id": "_kWrMjzxuCr5"
      },
      "source": [
        "\n",
        "Courier and logistics companies handle a massive volume of packages daily. These<br>\n",
        "packages need to be efficiently sorted and routed to their destinations to ensure<br>\n",
        "timely and accurate deliveries. Each package typically has a unique barcode that<br>\n",
        "contains essential information like the recipient's address, delivery method, and<br>\n",
        "tracking number. So, implement an application to arrange the packages based on<br>\n",
        "acking numbers.\n"
      ]
    },
    {
      "cell_type": "markdown",
      "metadata": {
        "id": "Ou9Bfg2HuCr8"
      },
      "source": [
        "\n",
        "<br>\n",
        "TEST CASE 1:<br>\n",
        "INPUT:<br>\n",
        " Enter Package Tracking Number<br>\n",
        "2000<br>\n",
        "1500<br>\n",
        "3000<br>\n",
        "4200<br>\n",
        "OUTPUT:<br>\n",
        "4200<br>\n",
        "3000<br>\n",
        "2000<br>\n",
        "1500<br>\n",
        "TEST CASE 2:<br>\n",
        "INPUT:<br>\n",
        " Enter Package Tracking Number<br>\n",
        "1500<br>\n",
        "6900<br>\n",
        "8000<br>\n",
        "1400<br>\n",
        "OUTPUT:<br>\n",
        "8000<br>\n",
        "6900<br>\n",
        "1500<br>\n",
        "1400<br>\n"
      ]
    },
    {
      "cell_type": "markdown",
      "metadata": {
        "id": "_vXYVnd6uCr9"
      },
      "source": [
        "selection sort"
      ]
    },
    {
      "cell_type": "code",
      "execution_count": 1,
      "metadata": {
        "id": "zTcjyToCuCr9",
        "outputId": "33b72fbd-0e4f-488e-ebff-a65b778fa750",
        "colab": {
          "base_uri": "https://localhost:8080/"
        }
      },
      "outputs": [
        {
          "output_type": "stream",
          "name": "stdout",
          "text": [
            "Enter Package Tracking Number: 2000 1500 3000 4200\n",
            "[4200, 3000, 2000, 1500]\n"
          ]
        }
      ],
      "source": [
        "array = list(map(int, input(\"Enter Package Tracking Number: \").split()))\n",
        "# input values = 2000 1500 3000 4200\n",
        "for i in range(0,len(array)):\n",
        "    minvalue_index=i\n",
        "    for j in range(i+1,len(array)):\n",
        "        if array[minvalue_index]<array[j]:\n",
        "            minvalue_index=j\n",
        "            array[i],array[minvalue_index]=array[minvalue_index],array[i]\n",
        "print(array)"
      ]
    }
  ],
  "metadata": {
    "kernelspec": {
      "display_name": "Python 3",
      "language": "python",
      "name": "python3"
    },
    "language_info": {
      "codemirror_mode": {
        "name": "ipython",
        "version": 3
      },
      "file_extension": ".py",
      "mimetype": "text/x-python",
      "name": "python",
      "nbconvert_exporter": "python",
      "pygments_lexer": "ipython3",
      "version": "3.6.4"
    },
    "colab": {
      "provenance": [],
      "include_colab_link": true
    }
  },
  "nbformat": 4,
  "nbformat_minor": 0
}