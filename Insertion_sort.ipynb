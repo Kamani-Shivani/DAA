{
  "cells": [
    {
      "cell_type": "markdown",
      "metadata": {
        "id": "view-in-github",
        "colab_type": "text"
      },
      "source": [
        "<a href=\"https://colab.research.google.com/github/Kamani-Shivani/DAA/blob/main/Insertion_sort.ipynb\" target=\"_parent\"><img src=\"https://colab.research.google.com/assets/colab-badge.svg\" alt=\"Open In Colab\"/></a>"
      ]
    },
    {
      "cell_type": "markdown",
      "metadata": {
        "id": "y8S74suE2C1L"
      },
      "source": [
        "nsertion sort"
      ]
    },
    {
      "cell_type": "code",
      "execution_count": 1,
      "metadata": {
        "id": "qevrUzAi2C1P",
        "outputId": "4244089a-d125-420b-ae20-a3efe5ea7332",
        "colab": {
          "base_uri": "https://localhost:8080/"
        }
      },
      "outputs": [
        {
          "output_type": "stream",
          "name": "stdout",
          "text": [
            "After Sorting  [19, 33, 37, 43, 44, 51, 55, 66, 72, 81, 90, 98]\n"
          ]
        }
      ],
      "source": [
        "array = [44 ,66 ,37 ,90 ,81 ,43 ,55 ,19 ,98 ,33 ,72 ,51]\n",
        "for i in range(1,len(array)):\n",
        "    index=i\n",
        "    for j in range(i-1,-1,-1):\n",
        "        if array[index]>array[j]:\n",
        "            break\n",
        "        else:\n",
        "            array[index],array[j]=array[j],array[index]\n",
        "            index=j\n",
        "print(\"After Sorting \",array)\n",
        ""
      ]
    }
  ],
  "metadata": {
    "kernelspec": {
      "display_name": "Python 3",
      "language": "python",
      "name": "python3"
    },
    "language_info": {
      "codemirror_mode": {
        "name": "ipython",
        "version": 3
      },
      "file_extension": ".py",
      "mimetype": "text/x-python",
      "name": "python",
      "nbconvert_exporter": "python",
      "pygments_lexer": "ipython3",
      "version": "3.6.4"
    },
    "colab": {
      "provenance": [],
      "include_colab_link": true
    }
  },
  "nbformat": 4,
  "nbformat_minor": 0
}