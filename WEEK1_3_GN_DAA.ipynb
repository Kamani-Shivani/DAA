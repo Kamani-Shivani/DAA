{
  "cells": [
    {
      "cell_type": "markdown",
      "metadata": {
        "id": "view-in-github",
        "colab_type": "text"
      },
      "source": [
        "<a href=\"https://colab.research.google.com/github/Kamani-Shivani/DAA/blob/main/WEEK1_3_GN_DAA.ipynb\" target=\"_parent\"><img src=\"https://colab.research.google.com/assets/colab-badge.svg\" alt=\"Open In Colab\"/></a>"
      ]
    },
    {
      "cell_type": "markdown",
      "metadata": {
        "id": "eHN9V-VntODO"
      },
      "source": [
        "\n",
        "Imagine you're working for a large online marketplace company that facilitates the<br>\n",
        "buying and selling of various products. As part of the order processing system, the<br>\n",
        "company receives thousands of new orders every minute from customers all around<br>\n",
        "the world. To ensure efficient and timely order fulfillment, the orders need to be<br>\n",
        "sorted based on various criteria before they can be processed and shipped Some <br>\n",
        "customers may request advanced shipping or have urgent requirements.<br>\n",
        ", implement an application to arrange the Orders based on priority Number.\n"
      ]
    },
    {
      "cell_type": "markdown",
      "metadata": {
        "id": "AIXPbNRwtODT"
      },
      "source": [
        "\n",
        "<br>\n",
        "Test Case-1<br>\n",
        "Input:<br>\n",
        " Enter orders Priority Number:<br>\n",
        "87, 67, 21, 59, 99, 46, 84, 32, 43, 12, 90, 23<br>\n",
        "After Sorting Orders Priority:<br>\n",
        "12,21,23,32,43,46,59,67,84,87,90,99<br>\n",
        "Test Case-2<br>\n",
        "Input:<br>\n",
        " Enter orders Priority Number:<br>\n",
        "44,66,37,90,81,43,55,19,98,33,72,51<br>\n",
        "After Sorting Orders Priority:<br>\n",
        "19,33,37,43,44,51,55,66,72,81,90,98<br>\n"
      ]
    },
    {
      "cell_type": "markdown",
      "metadata": {
        "id": "ldQ54QattODU"
      },
      "source": [
        "insertion sort"
      ]
    },
    {
      "cell_type": "code",
      "execution_count": 1,
      "metadata": {
        "id": "MRy1tkdAtODV",
        "outputId": "04456e8d-c40e-43e1-eff2-b51ca74520ec",
        "colab": {
          "base_uri": "https://localhost:8080/"
        }
      },
      "outputs": [
        {
          "output_type": "stream",
          "name": "stdout",
          "text": [
            "Enter orders Priority Number: 44 66 37 90 81 43 55 19 98 33 72 51\n",
            "After Sorting Orders Priority [19, 33, 37, 43, 44, 51, 55, 66, 72, 81, 90, 98]\n"
          ]
        }
      ],
      "source": [
        "array = list(map(int, input(\"Enter orders Priority Number: \").split()))\n",
        "# input values = 44 66 37 90 81 43 55 19 98 33 72 51\n",
        "for i in range(1,len(array)):\n",
        "    index=i\n",
        "    for j in range(i-1,-1,-1):\n",
        "        if array[index]>array[j]:\n",
        "            break\n",
        "        else:\n",
        "            array[index],array[j]=array[j],array[index]\n",
        "            index=j\n",
        "print(\"After Sorting Orders Priority\",array)\n",
        ""
      ]
    }
  ],
  "metadata": {
    "kernelspec": {
      "display_name": "Python 3",
      "language": "python",
      "name": "python3"
    },
    "language_info": {
      "codemirror_mode": {
        "name": "ipython",
        "version": 3
      },
      "file_extension": ".py",
      "mimetype": "text/x-python",
      "name": "python",
      "nbconvert_exporter": "python",
      "pygments_lexer": "ipython3",
      "version": "3.6.4"
    },
    "colab": {
      "provenance": [],
      "include_colab_link": true
    }
  },
  "nbformat": 4,
  "nbformat_minor": 0
}